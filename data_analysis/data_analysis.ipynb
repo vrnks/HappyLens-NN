{
 "cells": [
  {
   "cell_type": "code",
   "execution_count": 1,
   "id": "9712ef85",
   "metadata": {},
   "outputs": [],
   "source": [
    "import pandas as pd\n",
    "import seaborn as sns\n",
    "import matplotlib.pyplot as plt\n",
    "from IPython.display import HTML\n",
    "import matplotlib.animation as animation\n",
    "import plotly.express as px\n",
    "from sklearn.preprocessing import StandardScaler\n",
    "from sklearn.decomposition import PCA\n",
    "from sklearn.cluster import KMeans"
   ]
  },
  {
   "cell_type": "markdown",
   "id": "10da3d42",
   "metadata": {},
   "source": [
    "### Loading Dataset"
   ]
  },
  {
   "cell_type": "code",
   "execution_count": null,
   "id": "6bffdf64",
   "metadata": {},
   "outputs": [
    {
     "data": {
      "text/html": [
       "<div>\n",
       "<style scoped>\n",
       "    .dataframe tbody tr th:only-of-type {\n",
       "        vertical-align: middle;\n",
       "    }\n",
       "\n",
       "    .dataframe tbody tr th {\n",
       "        vertical-align: top;\n",
       "    }\n",
       "\n",
       "    .dataframe thead th {\n",
       "        text-align: right;\n",
       "    }\n",
       "</style>\n",
       "<table border=\"1\" class=\"dataframe\">\n",
       "  <thead>\n",
       "    <tr style=\"text-align: right;\">\n",
       "      <th></th>\n",
       "      <th>Year</th>\n",
       "      <th>Rank</th>\n",
       "      <th>Country</th>\n",
       "      <th>HappinessScore</th>\n",
       "      <th>GDP</th>\n",
       "      <th>SocialSupport</th>\n",
       "      <th>LifeExpectancy</th>\n",
       "      <th>Freedom</th>\n",
       "      <th>Generosity</th>\n",
       "      <th>Corruption</th>\n",
       "    </tr>\n",
       "  </thead>\n",
       "  <tbody>\n",
       "    <tr>\n",
       "      <th>0</th>\n",
       "      <td>2024</td>\n",
       "      <td>1</td>\n",
       "      <td>Finland</td>\n",
       "      <td>7.736</td>\n",
       "      <td>1.7490</td>\n",
       "      <td>1.783000</td>\n",
       "      <td>0.8240</td>\n",
       "      <td>0.986000</td>\n",
       "      <td>0.110000</td>\n",
       "      <td>0.502000</td>\n",
       "    </tr>\n",
       "    <tr>\n",
       "      <th>1</th>\n",
       "      <td>2024</td>\n",
       "      <td>2</td>\n",
       "      <td>Denmark</td>\n",
       "      <td>7.521</td>\n",
       "      <td>1.8250</td>\n",
       "      <td>1.748000</td>\n",
       "      <td>0.8200</td>\n",
       "      <td>0.955000</td>\n",
       "      <td>0.150000</td>\n",
       "      <td>0.488000</td>\n",
       "    </tr>\n",
       "    <tr>\n",
       "      <th>2</th>\n",
       "      <td>2024</td>\n",
       "      <td>3</td>\n",
       "      <td>Iceland</td>\n",
       "      <td>7.515</td>\n",
       "      <td>1.7990</td>\n",
       "      <td>1.840000</td>\n",
       "      <td>0.8730</td>\n",
       "      <td>0.971000</td>\n",
       "      <td>0.201000</td>\n",
       "      <td>0.173000</td>\n",
       "    </tr>\n",
       "    <tr>\n",
       "      <th>3</th>\n",
       "      <td>2024</td>\n",
       "      <td>4</td>\n",
       "      <td>Sweden</td>\n",
       "      <td>7.345</td>\n",
       "      <td>1.7830</td>\n",
       "      <td>1.698000</td>\n",
       "      <td>0.8890</td>\n",
       "      <td>0.952000</td>\n",
       "      <td>0.170000</td>\n",
       "      <td>0.467000</td>\n",
       "    </tr>\n",
       "    <tr>\n",
       "      <th>4</th>\n",
       "      <td>2024</td>\n",
       "      <td>5</td>\n",
       "      <td>Netherlands</td>\n",
       "      <td>7.306</td>\n",
       "      <td>1.8220</td>\n",
       "      <td>1.667000</td>\n",
       "      <td>0.8440</td>\n",
       "      <td>0.860000</td>\n",
       "      <td>0.186000</td>\n",
       "      <td>0.344000</td>\n",
       "    </tr>\n",
       "    <tr>\n",
       "      <th>...</th>\n",
       "      <td>...</td>\n",
       "      <td>...</td>\n",
       "      <td>...</td>\n",
       "      <td>...</td>\n",
       "      <td>...</td>\n",
       "      <td>...</td>\n",
       "      <td>...</td>\n",
       "      <td>...</td>\n",
       "      <td>...</td>\n",
       "      <td>...</td>\n",
       "    </tr>\n",
       "    <tr>\n",
       "      <th>1951</th>\n",
       "      <td>2011</td>\n",
       "      <td>152</td>\n",
       "      <td>Burundi</td>\n",
       "      <td>3.678</td>\n",
       "      <td>0.3674</td>\n",
       "      <td>0.627745</td>\n",
       "      <td>0.3348</td>\n",
       "      <td>0.299345</td>\n",
       "      <td>0.182982</td>\n",
       "      <td>0.132473</td>\n",
       "    </tr>\n",
       "    <tr>\n",
       "      <th>1952</th>\n",
       "      <td>2011</td>\n",
       "      <td>153</td>\n",
       "      <td>Sierra Leone</td>\n",
       "      <td>3.586</td>\n",
       "      <td>0.3674</td>\n",
       "      <td>0.627745</td>\n",
       "      <td>0.3348</td>\n",
       "      <td>0.299345</td>\n",
       "      <td>0.182982</td>\n",
       "      <td>0.132473</td>\n",
       "    </tr>\n",
       "    <tr>\n",
       "      <th>1953</th>\n",
       "      <td>2011</td>\n",
       "      <td>154</td>\n",
       "      <td>Central African Republic</td>\n",
       "      <td>3.568</td>\n",
       "      <td>0.3674</td>\n",
       "      <td>0.627745</td>\n",
       "      <td>0.3348</td>\n",
       "      <td>0.299345</td>\n",
       "      <td>0.182982</td>\n",
       "      <td>0.132473</td>\n",
       "    </tr>\n",
       "    <tr>\n",
       "      <th>1954</th>\n",
       "      <td>2011</td>\n",
       "      <td>155</td>\n",
       "      <td>Benin</td>\n",
       "      <td>3.493</td>\n",
       "      <td>0.3674</td>\n",
       "      <td>0.627745</td>\n",
       "      <td>0.3348</td>\n",
       "      <td>0.299345</td>\n",
       "      <td>0.182982</td>\n",
       "      <td>0.132473</td>\n",
       "    </tr>\n",
       "    <tr>\n",
       "      <th>1955</th>\n",
       "      <td>2011</td>\n",
       "      <td>156</td>\n",
       "      <td>Togo</td>\n",
       "      <td>3.007</td>\n",
       "      <td>0.3674</td>\n",
       "      <td>0.627745</td>\n",
       "      <td>0.3348</td>\n",
       "      <td>0.299345</td>\n",
       "      <td>0.182982</td>\n",
       "      <td>0.132473</td>\n",
       "    </tr>\n",
       "  </tbody>\n",
       "</table>\n",
       "<p>1956 rows × 10 columns</p>\n",
       "</div>"
      ],
      "text/plain": [
       "      Year  Rank                   Country  HappinessScore     GDP  \\\n",
       "0     2024     1                   Finland           7.736  1.7490   \n",
       "1     2024     2                   Denmark           7.521  1.8250   \n",
       "2     2024     3                   Iceland           7.515  1.7990   \n",
       "3     2024     4                    Sweden           7.345  1.7830   \n",
       "4     2024     5               Netherlands           7.306  1.8220   \n",
       "...    ...   ...                       ...             ...     ...   \n",
       "1951  2011   152                   Burundi           3.678  0.3674   \n",
       "1952  2011   153              Sierra Leone           3.586  0.3674   \n",
       "1953  2011   154  Central African Republic           3.568  0.3674   \n",
       "1954  2011   155                     Benin           3.493  0.3674   \n",
       "1955  2011   156                      Togo           3.007  0.3674   \n",
       "\n",
       "      SocialSupport  LifeExpectancy   Freedom  Generosity  Corruption  \n",
       "0          1.783000          0.8240  0.986000    0.110000    0.502000  \n",
       "1          1.748000          0.8200  0.955000    0.150000    0.488000  \n",
       "2          1.840000          0.8730  0.971000    0.201000    0.173000  \n",
       "3          1.698000          0.8890  0.952000    0.170000    0.467000  \n",
       "4          1.667000          0.8440  0.860000    0.186000    0.344000  \n",
       "...             ...             ...       ...         ...         ...  \n",
       "1951       0.627745          0.3348  0.299345    0.182982    0.132473  \n",
       "1952       0.627745          0.3348  0.299345    0.182982    0.132473  \n",
       "1953       0.627745          0.3348  0.299345    0.182982    0.132473  \n",
       "1954       0.627745          0.3348  0.299345    0.182982    0.132473  \n",
       "1955       0.627745          0.3348  0.299345    0.182982    0.132473  \n",
       "\n",
       "[1956 rows x 10 columns]"
      ]
     },
     "execution_count": 2,
     "metadata": {},
     "output_type": "execute_result"
    }
   ],
   "source": [
    "data_df = pd.read_csv(\"/HappyLens-NN/data/happiness_data.csv\")\n",
    "data_df"
   ]
  },
  {
   "cell_type": "markdown",
   "id": "dbff29c9",
   "metadata": {},
   "source": [
    "### Get top-20 countries by Happiness Score"
   ]
  },
  {
   "cell_type": "code",
   "execution_count": 3,
   "id": "209a3809",
   "metadata": {},
   "outputs": [],
   "source": [
    "top_10_countries = (\n",
    "    data_df.groupby(\"Country\")[\"HappinessScore\"]\n",
    "    .mean()\n",
    "    .sort_values(ascending=False)\n",
    "    .head(10)\n",
    "    .index.tolist()\n",
    ")\n",
    "top_10_df = data_df[data_df[\"Country\"].isin(top_10_countries)]"
   ]
  },
  {
   "cell_type": "markdown",
   "id": "28e76224",
   "metadata": {},
   "source": [
    "### Static Line Plot of Top-20 Countries"
   ]
  },
  {
   "cell_type": "code",
   "execution_count": 4,
   "id": "5fbbd62d",
   "metadata": {},
   "outputs": [
    {
     "data": {
      "image/png": "[encoded data removed]",
      "text/plain": [
       "<Figure size 1500x900 with 1 Axes>"
      ]
     },
     "metadata": {},
     "output_type": "display_data"
    }
   ],
   "source": [
    "sns.set_theme(style=\"whitegrid\")\n",
    "\n",
    "plt.figure(figsize=(15, 9))\n",
    "palette = sns.color_palette(\"husl\", len(top_10_countries)) \n",
    "\n",
    "sns.lineplot(\n",
    "    data=top_10_df,\n",
    "    x=\"Year\",\n",
    "    y=\"HappinessScore\",\n",
    "    hue=\"Country\",\n",
    "    marker=\"o\",\n",
    "    linewidth=2.5,\n",
    "    palette=palette\n",
    ")\n",
    "\n",
    "plt.title(\"Happiness Score Trends in Top-10 Countries (2011–2025)\", fontsize=18, fontweight='bold')\n",
    "plt.xlabel(\"Year\", fontsize=14)\n",
    "plt.ylabel(\"Happiness Score\", fontsize=14)\n",
    "plt.xticks(fontsize=12)\n",
    "plt.yticks(fontsize=12)\n",
    "plt.legend(title=\"Country\", bbox_to_anchor=(1.02, 1), loc=\"upper left\", fontsize=10)\n",
    "plt.grid(True, linestyle='--', alpha=0.6)\n",
    "plt.tight_layout()\n",
    "plt.show()\n"
   ]
  },
  {
   "cell_type": "markdown",
   "id": "201dbe78",
   "metadata": {},
   "source": [
    "### Interactive Line Plot with Plotly"
   ]
  },
  {
   "cell_type": "code",
   "execution_count": 5,
   "id": "6394638f",
   "metadata": {},
   "outputs": [
    {
     "data": {
      "application/vnd.plotly.v1+json": {
       "config": {
        "plotlyServerURL": "https://plot.ly"
       },
       "data": [
        {
         "hovertemplate": "Country=Finland<br>Year=%{x}<br>HappinessScore=%{y}<extra></extra>",
         "legendgroup": "Finland",
         "line": {
          "color": "#636efa",
          "dash": "solid"
         },
         "marker": {
          "symbol": "circle"
         },
         "mode": "lines+markers",
         "name": "Finland",
         "orientation": "v",
         "showlegend": true,
         "type": "scatter",
         "x": {
          "bdata": "6AfnB+YH5QfkB+MH4gfhB+AH3wfeB9wH2wc=",
          "dtype": "i2"
         },
         "xaxis": "x",
         "y": {
          "bdata": "i2zn+6nxHkAQWDm0yPYeQJ7vp8ZLNx9AYhBYObRIH0CR7Xw/NV4fQCPb+X5qPB9A+n5qvHQTH0C6SQwCK4ceQMdLN4lB4B1A9P3UeOmmHUA5tMh2vp8dQHWTGARWjh1AN4lBYOVQHkA=",
          "dtype": "f8"
         },
         "yaxis": "y"
        },
        {
         "hovertemplate": "Country=Denmark<br>Year=%{x}<br>HappinessScore=%{y}<extra></extra>",
         "legendgroup": "Denmark",
         "line": {
          "color": "#EF553B",
          "dash": "solid"
         },
         "marker": {
          "symbol": "circle"
         },
         "mode": "lines+markers",
         "name": "Denmark",
         "orientation": "v",
         "showlegend": true,
         "type": "scatter",
         "x": {
          "bdata": "6AfnB+YH5QfkB+MH4gfhB+AH3wfeB9wH2wc=",
          "dtype": "i2"
         },
         "xaxis": "x",
         "y": {
          "bdata": "L90kBoEVHkCiRbbz/VQeQPLSTWIQWB5AJQaBlUOLHkB7FK5H4XoeQC/dJAaBlR5AZmZmZmZmHkC4HoXrUTgeQEoMAiuHFh5AtMh2vp8aHkDP91PjpRseQBKDwMqhxR5ABoGVQ4tsH0A=",
          "dtype": "f8"
         },
         "yaxis": "y"
        },
        {
         "hovertemplate": "Country=Iceland<br>Year=%{x}<br>HappinessScore=%{y}<extra></extra>",
         "legendgroup": "Iceland",
         "line": {
          "color": "#00cc96",
          "dash": "solid"
         },
         "marker": {
          "symbol": "circle"
         },
         "mode": "lines+markers",
         "name": "Iceland",
         "orientation": "v",
         "showlegend": true,
         "type": "scatter",
         "x": {
          "bdata": "6AfnB+YH5QfkB+MH4gfhB+AH3wfeB9wH2wc=",
          "dtype": "i2"
         },
         "xaxis": "x",
         "y": {
          "bdata": "j8L1KFwPHkCamZmZmRkeQB+F61G4Hh5A7nw/NV46HkCe76fGSzceQGq8dJMYBB5AYOXQItv5HUB7FK5H4fodQGq8dJMYBB5AGy/dJAYBHkBYObTIdj4eQOxRuB6Fax1AWmQ730+NG0A=",
          "dtype": "f8"
         },
         "yaxis": "y"
        },
        {
         "hovertemplate": "Country=Sweden<br>Year=%{x}<br>HappinessScore=%{y}<extra></extra>",
         "legendgroup": "Sweden",
         "line": {
          "color": "#ab63fa",
          "dash": "solid"
         },
         "marker": {
          "symbol": "circle"
         },
         "mode": "lines+markers",
         "name": "Sweden",
         "orientation": "v",
         "showlegend": true,
         "type": "scatter",
         "x": {
          "bdata": "6AfnB+YH5QfkB+MH4gfhB+AH3wfeB9wH2wc=",
          "dtype": "i2"
         },
         "xaxis": "x",
         "y": {
          "bdata": "4XoUrkdhHUDHSzeJQWAdQBSuR+F6lB1A8KfGSzeJHUDByqFFtnMdQLbz/dR4aR1ArBxaZDtfHUCoxks3iUEdQIlBYOXQIh1ARIts5/spHUDb+X5qvHQdQOxRuB6F6x1Aarx0kxiEHUA=",
          "dtype": "f8"
         },
         "yaxis": "y"
        },
        {
         "hovertemplate": "Country=Netherlands<br>Year=%{x}<br>HappinessScore=%{y}<extra></extra>",
         "legendgroup": "Netherlands",
         "line": {
          "color": "#FFA15A",
          "dash": "solid"
         },
         "marker": {
          "symbol": "circle"
         },
         "mode": "lines+markers",
         "name": "Netherlands",
         "orientation": "v",
         "showlegend": true,
         "type": "scatter",
         "x": {
          "bdata": "6AfnB+YH5QfkB+MH4gfhB+AH3wfeB9wH2wc=",
          "dtype": "i2"
         },
         "xaxis": "x",
         "y": {
          "bdata": "001iEFg5HUAtsp3vp0YdQOkmMQisnB1AKVyPwvWoHUBCYOXQItsdQLKd76fGyx1AwcqhRbbzHUDdJAaBlcMdQDVeukkMgh1AQmDl0CJbHUBQjZduEoMdQD81XrpJDB5APzVeukkMHkA=",
          "dtype": "f8"
         },
         "yaxis": "y"
        },
        {
         "hovertemplate": "Country=Norway<br>Year=%{x}<br>HappinessScore=%{y}<extra></extra>",
         "legendgroup": "Norway",
         "line": {
          "color": "#19d3f3",
          "dash": "solid"
         },
         "marker": {
          "symbol": "circle"
         },
         "mode": "lines+markers",
         "name": "Norway",
         "orientation": "v",
         "showlegend": true,
         "type": "scatter",
         "x": {
          "bdata": "6AfnB+YH5QfkB+MH4gfhB+AH3wfeB9wH2wc=",
          "dtype": "i2"
         },
         "xaxis": "x",
         "y": {
          "bdata": "PzVeukkMHUBoke18PzUdQMP1KFyPQh1A9ihcj8J1HUDFILByaJEdQMHKoUW28x1Anu+nxks3HkDHSzeJQWAeQNnO91PjJR5Ay6FFtvP9HUBKDAIrhxYeQB+F61G4nh5Af2q8dJMYHkA=",
          "dtype": "f8"
         },
         "yaxis": "y"
        },
        {
         "hovertemplate": "Country=Israel<br>Year=%{x}<br>HappinessScore=%{y}<extra></extra>",
         "legendgroup": "Israel",
         "line": {
          "color": "#FF6692",
          "dash": "solid"
         },
         "marker": {
          "symbol": "circle"
         },
         "mode": "lines+markers",
         "name": "Israel",
         "orientation": "v",
         "showlegend": true,
         "type": "scatter",
         "x": {
          "bdata": "6AfnB+YH5QfkB+MH4gfhB+AH3wfeB9wH2wc=",
          "dtype": "i2"
         },
         "xaxis": "x",
         "y": {
          "bdata": "Vg4tsp3vHEB3vp8aL10dQDEIrBxa5B1A2/l+arx0HUBU46WbxKAcQGq8dJMYhBxAdZMYBFaOHEDD9Shcj8IcQCcxCKwc2hxAxSCwcmgRHUDpJjEIrBwdQE5iEFg5NB1Asp3vp8bLHEA=",
          "dtype": "f8"
         },
         "yaxis": "y"
        },
        {
         "hovertemplate": "Country=Australia<br>Year=%{x}<br>HappinessScore=%{y}<extra></extra>",
         "legendgroup": "Australia",
         "line": {
          "color": "#B6E880",
          "dash": "solid"
         },
         "marker": {
          "symbol": "circle"
         },
         "mode": "lines+markers",
         "name": "Australia",
         "orientation": "v",
         "showlegend": true,
         "type": "scatter",
         "x": {
          "bdata": "6AfnB+YH5QfkB+MH4gfhB+AH3wfeB9wH2wc=",
          "dtype": "i2"
         },
         "xaxis": "x",
         "y": {
          "bdata": "TDeJQWDlG0DufD81XjocQOF6FK5HYRxA2c73U+OlHEAIrBxaZLscQDEIrBxa5BxAtvP91HjpHEBKDAIrhxYdQIlBYOXQIh1AjZduEoNAHUCJQWDl0CIdQGZmZmZmZh1A4XoUrkdhHUA=",
          "dtype": "f8"
         },
         "yaxis": "y"
        },
        {
         "hovertemplate": "Country=New Zealand<br>Year=%{x}<br>HappinessScore=%{y}<extra></extra>",
         "legendgroup": "New Zealand",
         "line": {
          "color": "#FF97FF",
          "dash": "solid"
         },
         "marker": {
          "symbol": "circle"
         },
         "mode": "lines+markers",
         "name": "New Zealand",
         "orientation": "v",
         "showlegend": true,
         "type": "scatter",
         "x": {
          "bdata": "6AfnB+YH5QfkB+MH4gfhB+AH3wfeB9wH2wc=",
          "dtype": "i2"
         },
         "xaxis": "x",
         "y": {
          "bdata": "AiuHFtnOG0AEVg4tsh0cQMuhRbbzfRxAzczMzMzMHEDP91PjpRsdQDMzMzMzMx1A7nw/NV46HUCyne+nxksdQKjGSzeJQR1AvHSTGARWHUC+nxov3SQdQPyp8dJN4hxAsHJoke18HUA=",
          "dtype": "f8"
         },
         "yaxis": "y"
        },
        {
         "hovertemplate": "Country=Switzerland<br>Year=%{x}<br>HappinessScore=%{y}<extra></extra>",
         "legendgroup": "Switzerland",
         "line": {
          "color": "#FECB52",
          "dash": "solid"
         },
         "marker": {
          "symbol": "circle"
         },
         "mode": "lines+markers",
         "name": "Switzerland",
         "orientation": "v",
         "showlegend": true,
         "type": "scatter",
         "x": {
          "bdata": "6AfnB+YH5QfkB+MH4gfhB+AH3wfeB9wH2wc=",
          "dtype": "i2"
         },
         "xaxis": "x",
         "y": {
          "bdata": "PQrXo3C9G0A9CtejcD0cQPYoXI/C9RxAPzVeukkMHkBiEFg5tEgeQD0K16NwPR5A7FG4HoXrHUCmm8QgsPIdQGDl0CLb+R1A8KfGSzcJHkAMAiuHFlkeQJqZmZmZmR5A5dAi2/n+HUA=",
          "dtype": "f8"
         },
         "yaxis": "y"
        }
       ],
       "layout": {
        "hovermode": "x unified",
        "legend": {
         "title": {
          "text": "Country"
         },
         "tracegroupgap": 0
        },
        "template": {
         "data": {
          "bar": [
           {
            "error_x": {
             "color": "#2a3f5f"
            },
            "error_y": {
             "color": "#2a3f5f"
            },
            "marker": {
             "line": {
              "color": "white",
              "width": 0.5
             },
             "pattern": {
              "fillmode": "overlay",
              "size": 10,
              "solidity": 0.2
             }
            },
            "type": "bar"
           }
          ],
          "barpolar": [
           {
            "marker": {
             "line": {
              "color": "white",
              "width": 0.5
             },
             "pattern": {
              "fillmode": "overlay",
              "size": 10,
              "solidity": 0.2
             }
            },
            "type": "barpolar"
           }
          ],
          "carpet": [
           {
            "aaxis": {
             "endlinecolor": "#2a3f5f",
             "gridcolor": "#C8D4E3",
             "linecolor": "#C8D4E3",
             "minorgridcolor": "#C8D4E3",
             "startlinecolor": "#2a3f5f"
            },
            "baxis": {
             "endlinecolor": "#2a3f5f",
             "gridcolor": "#C8D4E3",
             "linecolor": "#C8D4E3",
             "minorgridcolor": "#C8D4E3",
             "startlinecolor": "#2a3f5f"
            },
            "type": "carpet"
           }
          ],
          "choropleth": [
           {
            "colorbar": {
             "outlinewidth": 0,
             "ticks": ""
            },
            "type": "choropleth"
           }
          ],
          "contour": [
           {
            "colorbar": {
             "outlinewidth": 0,
             "ticks": ""
            },
            "colorscale": [
             [
              0,
              "#0d0887"
             ],
             [
              0.1111111111111111,
              "#46039f"
             ],
             [
              0.2222222222222222,
              "#7201a8"
             ],
             [
              0.3333333333333333,
              "#9c179e"
             ],
             [
              0.4444444444444444,
              "#bd3786"
             ],
             [
              0.5555555555555556,
              "#d8576b"
             ],
             [
              0.6666666666666666,
              "#ed7953"
             ],
             [
              0.7777777777777778,
              "#fb9f3a"
             ],
             [
              0.8888888888888888,
              "#fdca26"
             ],
             [
              1,
              "#f0f921"
             ]
            ],
            "type": "contour"
           }
          ],
          "contourcarpet": [
           {
            "colorbar": {
             "outlinewidth": 0,
             "ticks": ""
            },
            "type": "contourcarpet"
           }
          ],
          "heatmap": [
           {
            "colorbar": {
             "outlinewidth": 0,
             "ticks": ""
            },
            "colorscale": [
             [
              0,
              "#0d0887"
             ],
             [
              0.1111111111111111,
              "#46039f"
             ],
             [
              0.2222222222222222,
              "#7201a8"
             ],
             [
              0.3333333333333333,
              "#9c179e"
             ],
             [
              0.4444444444444444,
              "#bd3786"
             ],
             [
              0.5555555555555556,
              "#d8576b"
             ],
             [
              0.6666666666666666,
              "#ed7953"
             ],
             [
              0.7777777777777778,
              "#fb9f3a"
             ],
             [
              0.8888888888888888,
              "#fdca26"
             ],
             [
              1,
              "#f0f921"
             ]
            ],
            "type": "heatmap"
           }
          ],
          "histogram": [
           {
            "marker": {
             "pattern": {
              "fillmode": "overlay",
              "size": 10,
              "solidity": 0.2
             }
            },
            "type": "histogram"
           }
          ],
          "histogram2d": [
           {
            "colorbar": {
             "outlinewidth": 0,
             "ticks": ""
            },
            "colorscale": [
             [
              0,
              "#0d0887"
             ],
             [
              0.1111111111111111,
              "#46039f"
             ],
             [
              0.2222222222222222,
              "#7201a8"
             ],
             [
              0.3333333333333333,
              "#9c179e"
             ],
             [
              0.4444444444444444,
              "#bd3786"
             ],
             [
              0.5555555555555556,
              "#d8576b"
             ],
             [
              0.6666666666666666,
              "#ed7953"
             ],
             [
              0.7777777777777778,
              "#fb9f3a"
             ],
             [
              0.8888888888888888,
              "#fdca26"
             ],
             [
              1,
              "#f0f921"
             ]
            ],
            "type": "histogram2d"
           }
          ],
          "histogram2dcontour": [
           {
            "colorbar": {
             "outlinewidth": 0,
             "ticks": ""
            },
            "colorscale": [
             [
              0,
              "#0d0887"
             ],
             [
              0.1111111111111111,
              "#46039f"
             ],
             [
              0.2222222222222222,
              "#7201a8"
             ],
             [
              0.3333333333333333,
              "#9c179e"
             ],
             [
              0.4444444444444444,
              "#bd3786"
             ],
             [
              0.5555555555555556,
              "#d8576b"
             ],
             [
              0.6666666666666666,
              "#ed7953"
             ],
             [
              0.7777777777777778,
              "#fb9f3a"
             ],
             [
              0.8888888888888888,
              "#fdca26"
             ],
             [
              1,
              "#f0f921"
             ]
            ],
            "type": "histogram2dcontour"
           }
          ],
          "mesh3d": [
           {
            "colorbar": {
             "outlinewidth": 0,
             "ticks": ""
            },
            "type": "mesh3d"
           }
          ],
          "parcoords": [
           {
            "line": {
             "colorbar": {
              "outlinewidth": 0,
              "ticks": ""
             }
            },
            "type": "parcoords"
           }
          ],
          "pie": [
           {
            "automargin": true,
            "type": "pie"
           }
          ],
          "scatter": [
           {
            "fillpattern": {
             "fillmode": "overlay",
             "size": 10,
             "solidity": 0.2
            },
            "type": "scatter"
           }
          ],
          "scatter3d": [
           {
            "line": {
             "colorbar": {
              "outlinewidth": 0,
              "ticks": ""
             }
            },
            "marker": {
             "colorbar": {
              "outlinewidth": 0,
              "ticks": ""
             }
            },
            "type": "scatter3d"
           }
          ],
          "scattercarpet": [
           {
            "marker": {
             "colorbar": {
              "outlinewidth": 0,
              "ticks": ""
             }
            },
            "type": "scattercarpet"
           }
          ],
          "scattergeo": [
           {
            "marker": {
             "colorbar": {
              "outlinewidth": 0,
              "ticks": ""
             }
            },
            "type": "scattergeo"
           }
          ],
          "scattergl": [
           {
            "marker": {
             "colorbar": {
              "outlinewidth": 0,
              "ticks": ""
             }
            },
            "type": "scattergl"
           }
          ],
          "scattermap": [
           {
            "marker": {
             "colorbar": {
              "outlinewidth": 0,
              "ticks": ""
             }
            },
            "type": "scattermap"
           }
          ],
          "scattermapbox": [
           {
            "marker": {
             "colorbar": {
              "outlinewidth": 0,
              "ticks": ""
             }
            },
            "type": "scattermapbox"
           }
          ],
          "scatterpolar": [
           {
            "marker": {
             "colorbar": {
              "outlinewidth": 0,
              "ticks": ""
             }
            },
            "type": "scatterpolar"
           }
          ],
          "scatterpolargl": [
           {
            "marker": {
             "colorbar": {
              "outlinewidth": 0,
              "ticks": ""
             }
            },
            "type": "scatterpolargl"
           }
          ],
          "scatterternary": [
           {
            "marker": {
             "colorbar": {
              "outlinewidth": 0,
              "ticks": ""
             }
            },
            "type": "scatterternary"
           }
          ],
          "surface": [
           {
            "colorbar": {
             "outlinewidth": 0,
             "ticks": ""
            },
            "colorscale": [
             [
              0,
              "#0d0887"
             ],
             [
              0.1111111111111111,
              "#46039f"
             ],
             [
              0.2222222222222222,
              "#7201a8"
             ],
             [
              0.3333333333333333,
              "#9c179e"
             ],
             [
              0.4444444444444444,
              "#bd3786"
             ],
             [
              0.5555555555555556,
              "#d8576b"
             ],
             [
              0.6666666666666666,
              "#ed7953"
             ],
             [
              0.7777777777777778,
              "#fb9f3a"
             ],
             [
              0.8888888888888888,
              "#fdca26"
             ],
             [
              1,
              "#f0f921"
             ]
            ],
            "type": "surface"
           }
          ],
          "table": [
           {
            "cells": {
             "fill": {
              "color": "#EBF0F8"
             },
             "line": {
              "color": "white"
             }
            },
            "header": {
             "fill": {
              "color": "#C8D4E3"
             },
             "line": {
              "color": "white"
             }
            },
            "type": "table"
           }
          ]
         },
         "layout": {
          "annotationdefaults": {
           "arrowcolor": "#2a3f5f",
           "arrowhead": 0,
           "arrowwidth": 1
          },
          "autotypenumbers": "strict",
          "coloraxis": {
           "colorbar": {
            "outlinewidth": 0,
            "ticks": ""
           }
          },
          "colorscale": {
           "diverging": [
            [
             0,
             "#8e0152"
            ],
            [
             0.1,
             "#c51b7d"
            ],
            [
             0.2,
             "#de77ae"
            ],
            [
             0.3,
             "#f1b6da"
            ],
            [
             0.4,
             "#fde0ef"
            ],
            [
             0.5,
             "#f7f7f7"
            ],
            [
             0.6,
             "#e6f5d0"
            ],
            [
             0.7,
             "#b8e186"
            ],
            [
             0.8,
             "#7fbc41"
            ],
            [
             0.9,
             "#4d9221"
            ],
            [
             1,
             "#276419"
            ]
           ],
           "sequential": [
            [
             0,
             "#0d0887"
            ],
            [
             0.1111111111111111,
             "#46039f"
            ],
            [
             0.2222222222222222,
             "#7201a8"
            ],
            [
             0.3333333333333333,
             "#9c179e"
            ],
            [
             0.4444444444444444,
             "#bd3786"
            ],
            [
             0.5555555555555556,
             "#d8576b"
            ],
            [
             0.6666666666666666,
             "#ed7953"
            ],
            [
             0.7777777777777778,
             "#fb9f3a"
            ],
            [
             0.8888888888888888,
             "#fdca26"
            ],
            [
             1,
             "#f0f921"
            ]
           ],
           "sequentialminus": [
            [
             0,
             "#0d0887"
            ],
            [
             0.1111111111111111,
             "#46039f"
            ],
            [
             0.2222222222222222,
             "#7201a8"
            ],
            [
             0.3333333333333333,
             "#9c179e"
            ],
            [
             0.4444444444444444,
             "#bd3786"
            ],
            [
             0.5555555555555556,
             "#d8576b"
            ],
            [
             0.6666666666666666,
             "#ed7953"
            ],
            [
             0.7777777777777778,
             "#fb9f3a"
            ],
            [
             0.8888888888888888,
             "#fdca26"
            ],
            [
             1,
             "#f0f921"
            ]
           ]
          },
          "colorway": [
           "#636efa",
           "#EF553B",
           "#00cc96",
           "#ab63fa",
           "#FFA15A",
           "#19d3f3",
           "#FF6692",
           "#B6E880",
           "#FF97FF",
           "#FECB52"
          ],
          "font": {
           "color": "#2a3f5f"
          },
          "geo": {
           "bgcolor": "white",
           "lakecolor": "white",
           "landcolor": "white",
           "showlakes": true,
           "showland": true,
           "subunitcolor": "#C8D4E3"
          },
          "hoverlabel": {
           "align": "left"
          },
          "hovermode": "closest",
          "mapbox": {
           "style": "light"
          },
          "paper_bgcolor": "white",
          "plot_bgcolor": "white",
          "polar": {
           "angularaxis": {
            "gridcolor": "#EBF0F8",
            "linecolor": "#EBF0F8",
            "ticks": ""
           },
           "bgcolor": "white",
           "radialaxis": {
            "gridcolor": "#EBF0F8",
            "linecolor": "#EBF0F8",
            "ticks": ""
           }
          },
          "scene": {
           "xaxis": {
            "backgroundcolor": "white",
            "gridcolor": "#DFE8F3",
            "gridwidth": 2,
            "linecolor": "#EBF0F8",
            "showbackground": true,
            "ticks": "",
            "zerolinecolor": "#EBF0F8"
           },
           "yaxis": {
            "backgroundcolor": "white",
            "gridcolor": "#DFE8F3",
            "gridwidth": 2,
            "linecolor": "#EBF0F8",
            "showbackground": true,
            "ticks": "",
            "zerolinecolor": "#EBF0F8"
           },
           "zaxis": {
            "backgroundcolor": "white",
            "gridcolor": "#DFE8F3",
            "gridwidth": 2,
            "linecolor": "#EBF0F8",
            "showbackground": true,
            "ticks": "",
            "zerolinecolor": "#EBF0F8"
           }
          },
          "shapedefaults": {
           "line": {
            "color": "#2a3f5f"
           }
          },
          "ternary": {
           "aaxis": {
            "gridcolor": "#DFE8F3",
            "linecolor": "#A2B1C6",
            "ticks": ""
           },
           "baxis": {
            "gridcolor": "#DFE8F3",
            "linecolor": "#A2B1C6",
            "ticks": ""
           },
           "bgcolor": "white",
           "caxis": {
            "gridcolor": "#DFE8F3",
            "linecolor": "#A2B1C6",
            "ticks": ""
           }
          },
          "title": {
           "x": 0.05
          },
          "xaxis": {
           "automargin": true,
           "gridcolor": "#EBF0F8",
           "linecolor": "#EBF0F8",
           "ticks": "",
           "title": {
            "standoff": 15
           },
           "zerolinecolor": "#EBF0F8",
           "zerolinewidth": 2
          },
          "yaxis": {
           "automargin": true,
           "gridcolor": "#EBF0F8",
           "linecolor": "#EBF0F8",
           "ticks": "",
           "title": {
            "standoff": 15
           },
           "zerolinecolor": "#EBF0F8",
           "zerolinewidth": 2
          }
         }
        },
        "title": {
         "font": {
          "size": 22
         },
         "text": "Happiness Score Trends in Top-10 Countries (2020–2025)"
        },
        "xaxis": {
         "anchor": "y",
         "domain": [
          0,
          1
         ],
         "title": {
          "text": "Year"
         }
        },
        "yaxis": {
         "anchor": "x",
         "domain": [
          0,
          1
         ],
         "title": {
          "text": "Happiness Score"
         }
        }
       }
      }
     },
     "metadata": {},
     "output_type": "display_data"
    }
   ],
   "source": [
    "fig = px.line(\n",
    "    top_10_df,\n",
    "    x=\"Year\",\n",
    "    y=\"HappinessScore\",\n",
    "    color=\"Country\",\n",
    "    markers=True,\n",
    "    title=\"Happiness Score Trends in Top-10 Countries (2020–2025)\"\n",
    ")\n",
    "\n",
    "fig.update_layout(\n",
    "    template=\"plotly_white\",\n",
    "    title_font_size=22,\n",
    "    xaxis_title=\"Year\",\n",
    "    yaxis_title=\"Happiness Score\",\n",
    "    legend_title=\"Country\",\n",
    "    hovermode=\"x unified\"\n",
    ")\n",
    "\n",
    "fig.show()\n"
   ]
  },
  {
   "cell_type": "markdown",
   "id": "667658b1",
   "metadata": {},
   "source": [
    "### Correlation Analysis (2024 Data)"
   ]
  },
  {
   "cell_type": "code",
   "execution_count": 6,
   "id": "e4d6d096",
   "metadata": {},
   "outputs": [
    {
     "data": {
      "text/html": [
       "<div>\n",
       "<style scoped>\n",
       "    .dataframe tbody tr th:only-of-type {\n",
       "        vertical-align: middle;\n",
       "    }\n",
       "\n",
       "    .dataframe tbody tr th {\n",
       "        vertical-align: top;\n",
       "    }\n",
       "\n",
       "    .dataframe thead th {\n",
       "        text-align: right;\n",
       "    }\n",
       "</style>\n",
       "<table border=\"1\" class=\"dataframe\">\n",
       "  <thead>\n",
       "    <tr style=\"text-align: right;\">\n",
       "      <th></th>\n",
       "      <th>Year</th>\n",
       "      <th>Rank</th>\n",
       "      <th>Country</th>\n",
       "      <th>HappinessScore</th>\n",
       "      <th>GDP</th>\n",
       "      <th>SocialSupport</th>\n",
       "      <th>LifeExpectancy</th>\n",
       "      <th>Freedom</th>\n",
       "      <th>Generosity</th>\n",
       "      <th>Corruption</th>\n",
       "    </tr>\n",
       "  </thead>\n",
       "  <tbody>\n",
       "    <tr>\n",
       "      <th>0</th>\n",
       "      <td>2024</td>\n",
       "      <td>1</td>\n",
       "      <td>Finland</td>\n",
       "      <td>7.736</td>\n",
       "      <td>1.749</td>\n",
       "      <td>1.783</td>\n",
       "      <td>0.824</td>\n",
       "      <td>0.986</td>\n",
       "      <td>0.110</td>\n",
       "      <td>0.502</td>\n",
       "    </tr>\n",
       "    <tr>\n",
       "      <th>1</th>\n",
       "      <td>2024</td>\n",
       "      <td>2</td>\n",
       "      <td>Denmark</td>\n",
       "      <td>7.521</td>\n",
       "      <td>1.825</td>\n",
       "      <td>1.748</td>\n",
       "      <td>0.820</td>\n",
       "      <td>0.955</td>\n",
       "      <td>0.150</td>\n",
       "      <td>0.488</td>\n",
       "    </tr>\n",
       "    <tr>\n",
       "      <th>2</th>\n",
       "      <td>2024</td>\n",
       "      <td>3</td>\n",
       "      <td>Iceland</td>\n",
       "      <td>7.515</td>\n",
       "      <td>1.799</td>\n",
       "      <td>1.840</td>\n",
       "      <td>0.873</td>\n",
       "      <td>0.971</td>\n",
       "      <td>0.201</td>\n",
       "      <td>0.173</td>\n",
       "    </tr>\n",
       "    <tr>\n",
       "      <th>3</th>\n",
       "      <td>2024</td>\n",
       "      <td>4</td>\n",
       "      <td>Sweden</td>\n",
       "      <td>7.345</td>\n",
       "      <td>1.783</td>\n",
       "      <td>1.698</td>\n",
       "      <td>0.889</td>\n",
       "      <td>0.952</td>\n",
       "      <td>0.170</td>\n",
       "      <td>0.467</td>\n",
       "    </tr>\n",
       "    <tr>\n",
       "      <th>4</th>\n",
       "      <td>2024</td>\n",
       "      <td>5</td>\n",
       "      <td>Netherlands</td>\n",
       "      <td>7.306</td>\n",
       "      <td>1.822</td>\n",
       "      <td>1.667</td>\n",
       "      <td>0.844</td>\n",
       "      <td>0.860</td>\n",
       "      <td>0.186</td>\n",
       "      <td>0.344</td>\n",
       "    </tr>\n",
       "    <tr>\n",
       "      <th>...</th>\n",
       "      <td>...</td>\n",
       "      <td>...</td>\n",
       "      <td>...</td>\n",
       "      <td>...</td>\n",
       "      <td>...</td>\n",
       "      <td>...</td>\n",
       "      <td>...</td>\n",
       "      <td>...</td>\n",
       "      <td>...</td>\n",
       "      <td>...</td>\n",
       "    </tr>\n",
       "    <tr>\n",
       "      <th>141</th>\n",
       "      <td>2024</td>\n",
       "      <td>143</td>\n",
       "      <td>Zimbabwe</td>\n",
       "      <td>3.396</td>\n",
       "      <td>0.827</td>\n",
       "      <td>0.961</td>\n",
       "      <td>0.178</td>\n",
       "      <td>0.598</td>\n",
       "      <td>0.065</td>\n",
       "      <td>0.131</td>\n",
       "    </tr>\n",
       "    <tr>\n",
       "      <th>142</th>\n",
       "      <td>2024</td>\n",
       "      <td>144</td>\n",
       "      <td>Malawi</td>\n",
       "      <td>3.260</td>\n",
       "      <td>0.588</td>\n",
       "      <td>0.489</td>\n",
       "      <td>0.280</td>\n",
       "      <td>0.677</td>\n",
       "      <td>0.115</td>\n",
       "      <td>0.136</td>\n",
       "    </tr>\n",
       "    <tr>\n",
       "      <th>143</th>\n",
       "      <td>2024</td>\n",
       "      <td>145</td>\n",
       "      <td>Lebanon</td>\n",
       "      <td>3.188</td>\n",
       "      <td>1.223</td>\n",
       "      <td>0.984</td>\n",
       "      <td>0.440</td>\n",
       "      <td>0.279</td>\n",
       "      <td>0.071</td>\n",
       "      <td>0.041</td>\n",
       "    </tr>\n",
       "    <tr>\n",
       "      <th>144</th>\n",
       "      <td>2024</td>\n",
       "      <td>146</td>\n",
       "      <td>Sierra Leone</td>\n",
       "      <td>2.998</td>\n",
       "      <td>0.786</td>\n",
       "      <td>0.692</td>\n",
       "      <td>0.327</td>\n",
       "      <td>0.613</td>\n",
       "      <td>0.138</td>\n",
       "      <td>0.052</td>\n",
       "    </tr>\n",
       "    <tr>\n",
       "      <th>145</th>\n",
       "      <td>2024</td>\n",
       "      <td>147</td>\n",
       "      <td>Afghanistan</td>\n",
       "      <td>1.364</td>\n",
       "      <td>0.649</td>\n",
       "      <td>0.000</td>\n",
       "      <td>0.155</td>\n",
       "      <td>0.000</td>\n",
       "      <td>0.075</td>\n",
       "      <td>0.135</td>\n",
       "    </tr>\n",
       "  </tbody>\n",
       "</table>\n",
       "<p>146 rows × 10 columns</p>\n",
       "</div>"
      ],
      "text/plain": [
       "     Year  Rank       Country  HappinessScore    GDP  SocialSupport  \\\n",
       "0    2024     1       Finland           7.736  1.749          1.783   \n",
       "1    2024     2       Denmark           7.521  1.825          1.748   \n",
       "2    2024     3       Iceland           7.515  1.799          1.840   \n",
       "3    2024     4        Sweden           7.345  1.783          1.698   \n",
       "4    2024     5   Netherlands           7.306  1.822          1.667   \n",
       "..    ...   ...           ...             ...    ...            ...   \n",
       "141  2024   143      Zimbabwe           3.396  0.827          0.961   \n",
       "142  2024   144        Malawi           3.260  0.588          0.489   \n",
       "143  2024   145       Lebanon           3.188  1.223          0.984   \n",
       "144  2024   146  Sierra Leone           2.998  0.786          0.692   \n",
       "145  2024   147   Afghanistan           1.364  0.649          0.000   \n",
       "\n",
       "     LifeExpectancy  Freedom  Generosity  Corruption  \n",
       "0             0.824    0.986       0.110       0.502  \n",
       "1             0.820    0.955       0.150       0.488  \n",
       "2             0.873    0.971       0.201       0.173  \n",
       "3             0.889    0.952       0.170       0.467  \n",
       "4             0.844    0.860       0.186       0.344  \n",
       "..              ...      ...         ...         ...  \n",
       "141           0.178    0.598       0.065       0.131  \n",
       "142           0.280    0.677       0.115       0.136  \n",
       "143           0.440    0.279       0.071       0.041  \n",
       "144           0.327    0.613       0.138       0.052  \n",
       "145           0.155    0.000       0.075       0.135  \n",
       "\n",
       "[146 rows x 10 columns]"
      ]
     },
     "execution_count": 6,
     "metadata": {},
     "output_type": "execute_result"
    }
   ],
   "source": [
    "happiness_df = data_df.copy()\n",
    "happiness_df = happiness_df[happiness_df[\"Year\"] == 2024]\n",
    "happiness_df"
   ]
  },
  {
   "cell_type": "code",
   "execution_count": 8,
   "id": "b0bed4b0",
   "metadata": {},
   "outputs": [
    {
     "data": {
      "text/html": [
       "<div>\n",
       "<style scoped>\n",
       "    .dataframe tbody tr th:only-of-type {\n",
       "        vertical-align: middle;\n",
       "    }\n",
       "\n",
       "    .dataframe tbody tr th {\n",
       "        vertical-align: top;\n",
       "    }\n",
       "\n",
       "    .dataframe thead th {\n",
       "        text-align: right;\n",
       "    }\n",
       "</style>\n",
       "<table border=\"1\" class=\"dataframe\">\n",
       "  <thead>\n",
       "    <tr style=\"text-align: right;\">\n",
       "      <th></th>\n",
       "      <th>Country</th>\n",
       "      <th>HappinessScore</th>\n",
       "      <th>GDP</th>\n",
       "      <th>SocialSupport</th>\n",
       "      <th>LifeExpectancy</th>\n",
       "      <th>Freedom</th>\n",
       "      <th>Generosity</th>\n",
       "      <th>Corruption</th>\n",
       "    </tr>\n",
       "  </thead>\n",
       "  <tbody>\n",
       "    <tr>\n",
       "      <th>0</th>\n",
       "      <td>Finland</td>\n",
       "      <td>7.736</td>\n",
       "      <td>1.749</td>\n",
       "      <td>1.783</td>\n",
       "      <td>0.824</td>\n",
       "      <td>0.986</td>\n",
       "      <td>0.110</td>\n",
       "      <td>0.502</td>\n",
       "    </tr>\n",
       "    <tr>\n",
       "      <th>1</th>\n",
       "      <td>Denmark</td>\n",
       "      <td>7.521</td>\n",
       "      <td>1.825</td>\n",
       "      <td>1.748</td>\n",
       "      <td>0.820</td>\n",
       "      <td>0.955</td>\n",
       "      <td>0.150</td>\n",
       "      <td>0.488</td>\n",
       "    </tr>\n",
       "    <tr>\n",
       "      <th>2</th>\n",
       "      <td>Iceland</td>\n",
       "      <td>7.515</td>\n",
       "      <td>1.799</td>\n",
       "      <td>1.840</td>\n",
       "      <td>0.873</td>\n",
       "      <td>0.971</td>\n",
       "      <td>0.201</td>\n",
       "      <td>0.173</td>\n",
       "    </tr>\n",
       "    <tr>\n",
       "      <th>3</th>\n",
       "      <td>Sweden</td>\n",
       "      <td>7.345</td>\n",
       "      <td>1.783</td>\n",
       "      <td>1.698</td>\n",
       "      <td>0.889</td>\n",
       "      <td>0.952</td>\n",
       "      <td>0.170</td>\n",
       "      <td>0.467</td>\n",
       "    </tr>\n",
       "    <tr>\n",
       "      <th>4</th>\n",
       "      <td>Netherlands</td>\n",
       "      <td>7.306</td>\n",
       "      <td>1.822</td>\n",
       "      <td>1.667</td>\n",
       "      <td>0.844</td>\n",
       "      <td>0.860</td>\n",
       "      <td>0.186</td>\n",
       "      <td>0.344</td>\n",
       "    </tr>\n",
       "    <tr>\n",
       "      <th>...</th>\n",
       "      <td>...</td>\n",
       "      <td>...</td>\n",
       "      <td>...</td>\n",
       "      <td>...</td>\n",
       "      <td>...</td>\n",
       "      <td>...</td>\n",
       "      <td>...</td>\n",
       "      <td>...</td>\n",
       "    </tr>\n",
       "    <tr>\n",
       "      <th>141</th>\n",
       "      <td>Zimbabwe</td>\n",
       "      <td>3.396</td>\n",
       "      <td>0.827</td>\n",
       "      <td>0.961</td>\n",
       "      <td>0.178</td>\n",
       "      <td>0.598</td>\n",
       "      <td>0.065</td>\n",
       "      <td>0.131</td>\n",
       "    </tr>\n",
       "    <tr>\n",
       "      <th>142</th>\n",
       "      <td>Malawi</td>\n",
       "      <td>3.260</td>\n",
       "      <td>0.588</td>\n",
       "      <td>0.489</td>\n",
       "      <td>0.280</td>\n",
       "      <td>0.677</td>\n",
       "      <td>0.115</td>\n",
       "      <td>0.136</td>\n",
       "    </tr>\n",
       "    <tr>\n",
       "      <th>143</th>\n",
       "      <td>Lebanon</td>\n",
       "      <td>3.188</td>\n",
       "      <td>1.223</td>\n",
       "      <td>0.984</td>\n",
       "      <td>0.440</td>\n",
       "      <td>0.279</td>\n",
       "      <td>0.071</td>\n",
       "      <td>0.041</td>\n",
       "    </tr>\n",
       "    <tr>\n",
       "      <th>144</th>\n",
       "      <td>Sierra Leone</td>\n",
       "      <td>2.998</td>\n",
       "      <td>0.786</td>\n",
       "      <td>0.692</td>\n",
       "      <td>0.327</td>\n",
       "      <td>0.613</td>\n",
       "      <td>0.138</td>\n",
       "      <td>0.052</td>\n",
       "    </tr>\n",
       "    <tr>\n",
       "      <th>145</th>\n",
       "      <td>Afghanistan</td>\n",
       "      <td>1.364</td>\n",
       "      <td>0.649</td>\n",
       "      <td>0.000</td>\n",
       "      <td>0.155</td>\n",
       "      <td>0.000</td>\n",
       "      <td>0.075</td>\n",
       "      <td>0.135</td>\n",
       "    </tr>\n",
       "  </tbody>\n",
       "</table>\n",
       "<p>146 rows × 8 columns</p>\n",
       "</div>"
      ],
      "text/plain": [
       "          Country  HappinessScore    GDP  SocialSupport  LifeExpectancy  \\\n",
       "0         Finland           7.736  1.749          1.783           0.824   \n",
       "1         Denmark           7.521  1.825          1.748           0.820   \n",
       "2         Iceland           7.515  1.799          1.840           0.873   \n",
       "3          Sweden           7.345  1.783          1.698           0.889   \n",
       "4     Netherlands           7.306  1.822          1.667           0.844   \n",
       "..            ...             ...    ...            ...             ...   \n",
       "141      Zimbabwe           3.396  0.827          0.961           0.178   \n",
       "142        Malawi           3.260  0.588          0.489           0.280   \n",
       "143       Lebanon           3.188  1.223          0.984           0.440   \n",
       "144  Sierra Leone           2.998  0.786          0.692           0.327   \n",
       "145   Afghanistan           1.364  0.649          0.000           0.155   \n",
       "\n",
       "     Freedom  Generosity  Corruption  \n",
       "0      0.986       0.110       0.502  \n",
       "1      0.955       0.150       0.488  \n",
       "2      0.971       0.201       0.173  \n",
       "3      0.952       0.170       0.467  \n",
       "4      0.860       0.186       0.344  \n",
       "..       ...         ...         ...  \n",
       "141    0.598       0.065       0.131  \n",
       "142    0.677       0.115       0.136  \n",
       "143    0.279       0.071       0.041  \n",
       "144    0.613       0.138       0.052  \n",
       "145    0.000       0.075       0.135  \n",
       "\n",
       "[146 rows x 8 columns]"
      ]
     },
     "execution_count": 8,
     "metadata": {},
     "output_type": "execute_result"
    }
   ],
   "source": [
    "# Drop unnecessary columns\n",
    "happiness_df = happiness_df.drop(columns=['Rank'])\n",
    "df_for_corr = happiness_df.drop(columns=['Year'])\n",
    "df_for_corr"
   ]
  },
  {
   "cell_type": "code",
   "execution_count": 9,
   "id": "123c10e0",
   "metadata": {},
   "outputs": [
    {
     "data": {
      "image/png": "[encoded data removed]",
      "text/plain": [
       "<Figure size 1400x1000 with 2 Axes>"
      ]
     },
     "metadata": {},
     "output_type": "display_data"
    }
   ],
   "source": [
    "corr = df_for_corr.corr(numeric_only=True)\n",
    "plt.figure(figsize=(14, 10))\n",
    "sns.heatmap(corr, annot=True, cmap='coolwarm')\n",
    "plt.title(\"Correlation Matrix of Happiness Factors (2024)\")\n",
    "plt.show()"
   ]
  },
  {
   "cell_type": "markdown",
   "id": "d83c78fd",
   "metadata": {},
   "source": [
    "### **Correlation Insights:**\n",
    "\n",
    "#### 1. **Happiness and Key Factors**:\n",
    "- **Happiness Score** shows the **strongest positive correlation** with:\n",
    "  - **Social Support**: 0.81\n",
    "  - **GDP**: 0.76\n",
    "  - **Life Expectancy**: 0.71  \n",
    "  This suggests that countries with higher social support, GDP, and life expectancy tend to have higher happiness levels.\n",
    "\n",
    "#### 2. **Economic Factors**:\n",
    "- **GDP** positively correlates with all other factors, especially:\n",
    "  - **Happiness Score** (0.76)\n",
    "  - **Life Expectancy** (0.75)  \n",
    "  This indicates that economic development contributes to overall well-being.\n",
    "\n",
    "- We observe a lower correlation with **Freedom** (0.38), suggesting that while economic prosperity matters, it's not the only factor influencing happiness.\n",
    "\n",
    "#### 3. **Social Support**:\n",
    "- **Social Support** has a strong correlation with **Happiness Score** (0.81), highlighting the importance of social networks in improving quality of life.\n",
    "- It shows a moderate correlation with **Life Expectancy** (0.59) and **GDP** (0.71), indicating social support is significant but has a lesser impact on other factors.\n",
    "\n",
    "#### 4. **Freedom and Corruption**:\n",
    "- **Freedom** shows a moderate positive correlation with **Happiness Score** (0.63), suggesting greater freedom often leads to higher happiness.\n",
    "- **Corruption** has a moderate positive correlation with **Happiness Score** (0.41), indicating that reducing corruption could improve happiness.\n",
    "\n",
    "#### 5. **Generosity**:\n",
    "- **Generosity** shows a very weak correlation with **Happiness Score** (0.05), suggesting generosity is not a major factor in happiness.\n",
    "\n",
    "\n",
    "### **Key Observations**:\n",
    "- **Social Support** and **GDP** have the most significant positive impact on happiness, reinforcing the importance of economic development and social safety nets.\n",
    "- **Freedom** and **Corruption** also matter, though their effects are less pronounced compared to socio-economic factors.\n",
    "- **Generosity** is less impactful on happiness compared to other variables.\n",
    "\n",
    "\n",
    "### **Recommendations**:\n",
    "To improve happiness levels in countries:\n",
    "- Focus on **economic development** (GDP).\n",
    "- Enhance **social support** networks.\n",
    "- Work on **reducing corruption** and increasing **freedom**."
   ]
  },
  {
   "cell_type": "markdown",
   "id": "87337377",
   "metadata": {},
   "source": [
    "### Descriptive Statistics of the Happiness Dataset (2024, 146 countries)"
   ]
  },
  {
   "cell_type": "code",
   "execution_count": 10,
   "id": "7040321d",
   "metadata": {},
   "outputs": [
    {
     "data": {
      "text/html": [
       "<div>\n",
       "<style scoped>\n",
       "    .dataframe tbody tr th:only-of-type {\n",
       "        vertical-align: middle;\n",
       "    }\n",
       "\n",
       "    .dataframe tbody tr th {\n",
       "        vertical-align: top;\n",
       "    }\n",
       "\n",
       "    .dataframe thead th {\n",
       "        text-align: right;\n",
       "    }\n",
       "</style>\n",
       "<table border=\"1\" class=\"dataframe\">\n",
       "  <thead>\n",
       "    <tr style=\"text-align: right;\">\n",
       "      <th></th>\n",
       "      <th>Year</th>\n",
       "      <th>HappinessScore</th>\n",
       "      <th>GDP</th>\n",
       "      <th>SocialSupport</th>\n",
       "      <th>LifeExpectancy</th>\n",
       "      <th>Freedom</th>\n",
       "      <th>Generosity</th>\n",
       "      <th>Corruption</th>\n",
       "    </tr>\n",
       "  </thead>\n",
       "  <tbody>\n",
       "    <tr>\n",
       "      <th>count</th>\n",
       "      <td>146.0</td>\n",
       "      <td>146.00</td>\n",
       "      <td>146.00</td>\n",
       "      <td>146.00</td>\n",
       "      <td>146.00</td>\n",
       "      <td>146.00</td>\n",
       "      <td>146.00</td>\n",
       "      <td>146.00</td>\n",
       "    </tr>\n",
       "    <tr>\n",
       "      <th>mean</th>\n",
       "      <td>2024.0</td>\n",
       "      <td>5.58</td>\n",
       "      <td>1.32</td>\n",
       "      <td>1.33</td>\n",
       "      <td>0.55</td>\n",
       "      <td>0.75</td>\n",
       "      <td>0.11</td>\n",
       "      <td>0.15</td>\n",
       "    </tr>\n",
       "    <tr>\n",
       "      <th>std</th>\n",
       "      <td>0.0</td>\n",
       "      <td>1.16</td>\n",
       "      <td>0.39</td>\n",
       "      <td>0.35</td>\n",
       "      <td>0.22</td>\n",
       "      <td>0.18</td>\n",
       "      <td>0.06</td>\n",
       "      <td>0.11</td>\n",
       "    </tr>\n",
       "    <tr>\n",
       "      <th>min</th>\n",
       "      <td>2024.0</td>\n",
       "      <td>1.36</td>\n",
       "      <td>0.00</td>\n",
       "      <td>0.00</td>\n",
       "      <td>0.00</td>\n",
       "      <td>0.00</td>\n",
       "      <td>0.00</td>\n",
       "      <td>0.00</td>\n",
       "    </tr>\n",
       "    <tr>\n",
       "      <th>25%</th>\n",
       "      <td>2024.0</td>\n",
       "      <td>4.69</td>\n",
       "      <td>1.04</td>\n",
       "      <td>1.13</td>\n",
       "      <td>0.41</td>\n",
       "      <td>0.66</td>\n",
       "      <td>0.07</td>\n",
       "      <td>0.07</td>\n",
       "    </tr>\n",
       "    <tr>\n",
       "      <th>50%</th>\n",
       "      <td>2024.0</td>\n",
       "      <td>5.86</td>\n",
       "      <td>1.34</td>\n",
       "      <td>1.43</td>\n",
       "      <td>0.55</td>\n",
       "      <td>0.77</td>\n",
       "      <td>0.11</td>\n",
       "      <td>0.12</td>\n",
       "    </tr>\n",
       "    <tr>\n",
       "      <th>75%</th>\n",
       "      <td>2024.0</td>\n",
       "      <td>6.49</td>\n",
       "      <td>1.65</td>\n",
       "      <td>1.59</td>\n",
       "      <td>0.71</td>\n",
       "      <td>0.88</td>\n",
       "      <td>0.15</td>\n",
       "      <td>0.18</td>\n",
       "    </tr>\n",
       "    <tr>\n",
       "      <th>max</th>\n",
       "      <td>2024.0</td>\n",
       "      <td>7.74</td>\n",
       "      <td>2.03</td>\n",
       "      <td>1.84</td>\n",
       "      <td>0.95</td>\n",
       "      <td>1.02</td>\n",
       "      <td>0.32</td>\n",
       "      <td>0.52</td>\n",
       "    </tr>\n",
       "  </tbody>\n",
       "</table>\n",
       "</div>"
      ],
      "text/plain": [
       "         Year  HappinessScore     GDP  SocialSupport  LifeExpectancy  Freedom  \\\n",
       "count   146.0          146.00  146.00         146.00          146.00   146.00   \n",
       "mean   2024.0            5.58    1.32           1.33            0.55     0.75   \n",
       "std       0.0            1.16    0.39           0.35            0.22     0.18   \n",
       "min    2024.0            1.36    0.00           0.00            0.00     0.00   \n",
       "25%    2024.0            4.69    1.04           1.13            0.41     0.66   \n",
       "50%    2024.0            5.86    1.34           1.43            0.55     0.77   \n",
       "75%    2024.0            6.49    1.65           1.59            0.71     0.88   \n",
       "max    2024.0            7.74    2.03           1.84            0.95     1.02   \n",
       "\n",
       "       Generosity  Corruption  \n",
       "count      146.00      146.00  \n",
       "mean         0.11        0.15  \n",
       "std          0.06        0.11  \n",
       "min          0.00        0.00  \n",
       "25%          0.07        0.07  \n",
       "50%          0.11        0.12  \n",
       "75%          0.15        0.18  \n",
       "max          0.32        0.52  "
      ]
     },
     "execution_count": 10,
     "metadata": {},
     "output_type": "execute_result"
    }
   ],
   "source": [
    "happiness_df.describe().round(2)"
   ]
  },
  {
   "cell_type": "markdown",
   "id": "af48b826",
   "metadata": {},
   "source": [
    "### **Summary of 2024 Happiness Statistics (146 Countries)**\n",
    "\n",
    "1. **Happiness Score**  \n",
    "- **Mean**: 5.58 | **Median**: 5.86 | **Range**: 1.36–7.74  \n",
    "- Distribution is slightly skewed toward less happy countries. Most countries score between 4.7–6.5, but a few with extremely low values drag the average down.\n",
    "\n",
    "2. **Log GDP per Capita**  \n",
    "- **Mean**: 1.32 | **Max**: 2.03 (≈$80,000 PPP)  \n",
    "- Wide income inequality is evident. Strong positive correlation with happiness (~0.76) confirms GDP's key role.\n",
    "\n",
    "3. **Social Support**  \n",
    "- **Mean**: 1.33 | **Max**: 1.84 | **Min**: 0  \n",
    "- Reflects the perceived availability of trusted people. Countries with low values show weak social capital.\n",
    "\n",
    "4. **Healthy Life Expectancy**  \n",
    "- **Mean**: 0.55 (≈50–70 years of healthy life)  \n",
    "- Major disparities exist, with some countries likely missing reliable data (min = 0).\n",
    "\n",
    "5. **Freedom to Make Life Choices**  \n",
    "- **Mean**: 0.75 | **Max**: 1.02  \n",
    "- Around 75% of countries score above 0.66, though some report no perceived freedom at all.\n",
    "\n",
    "6. **Generosity**  \n",
    "- **Mean**: 0.11 | **Max**: 0.32  \n",
    "- Overall low levels of generosity, with some countries showing no philanthropic activity. This is the least influential factor.\n",
    "\n",
    "7. **Perceptions of Corruption**  \n",
    "- **Mean**: 0.15 | **Max**: 0.52  \n",
    "- High variation and frequent zero values suggest widespread distrust or data gaps. Corruption remains a serious issue globally.\n",
    "\n",
    "\n",
    "### **Key Takeaways**  \n",
    "- **GDP**, **Social Support**, and **Health** are the strongest contributors to happiness.  \n",
    "- **Freedom** is also important, while **Generosity** and **Corruption Perception** have weaker influence.  \n",
    "- Global inequality across all indicators is significant.  \n",
    "- The 2024 data offers a realistic snapshot of global well-being, highlighting critical gaps in trust, healthcare, and social safety nets.\n"
   ]
  }
 ],
 "metadata": {
  "kernelspec": {
   "display_name": "Python 3",
   "language": "python",
   "name": "python3"
  },
  "language_info": {
   "codemirror_mode": {
    "name": "ipython",
    "version": 3
   },
   "file_extension": ".py",
   "mimetype": "text/x-python",
   "name": "python",
   "nbconvert_exporter": "python",
   "pygments_lexer": "ipython3",
   "version": "3.13.3"
  }
 },
 "nbformat": 4,
 "nbformat_minor": 5
}
