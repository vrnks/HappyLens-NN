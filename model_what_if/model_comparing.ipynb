{
 "cells": [
  {
   "cell_type": "code",
   "execution_count": 1,
   "id": "d2d04e7c",
   "metadata": {},
   "outputs": [
    {
     "data": {
      "text/markdown": [
       "##  Scenario-Based Comparison between XGBoost and LSTM"
      ],
      "text/plain": [
       "<IPython.core.display.Markdown object>"
      ]
     },
     "metadata": {},
     "output_type": "display_data"
    },
    {
     "data": {
      "text/html": [
       "<div>\n",
       "<style scoped>\n",
       "    .dataframe tbody tr th:only-of-type {\n",
       "        vertical-align: middle;\n",
       "    }\n",
       "\n",
       "    .dataframe tbody tr th {\n",
       "        vertical-align: top;\n",
       "    }\n",
       "\n",
       "    .dataframe thead th {\n",
       "        text-align: right;\n",
       "    }\n",
       "</style>\n",
       "<table border=\"1\" class=\"dataframe\">\n",
       "  <thead>\n",
       "    <tr style=\"text-align: right;\">\n",
       "      <th></th>\n",
       "      <th>Indicator Change</th>\n",
       "      <th>Predicted Happiness Score (XGBoost)</th>\n",
       "      <th>Predicted Happiness Score (LSTM)</th>\n",
       "    </tr>\n",
       "  </thead>\n",
       "  <tbody>\n",
       "    <tr>\n",
       "      <th>0</th>\n",
       "      <td>GDP ↑ by 10%</td>\n",
       "      <td>5.351331</td>\n",
       "      <td>5.706116</td>\n",
       "    </tr>\n",
       "    <tr>\n",
       "      <th>1</th>\n",
       "      <td>Social Support ↑ by +0.1</td>\n",
       "      <td>5.461033</td>\n",
       "      <td>5.754849</td>\n",
       "    </tr>\n",
       "    <tr>\n",
       "      <th>2</th>\n",
       "      <td>Freedom ↑ by +0.1</td>\n",
       "      <td>5.612052</td>\n",
       "      <td>5.775245</td>\n",
       "    </tr>\n",
       "  </tbody>\n",
       "</table>\n",
       "</div>"
      ],
      "text/plain": [
       "           Indicator Change  Predicted Happiness Score (XGBoost)  \\\n",
       "0              GDP ↑ by 10%                             5.351331   \n",
       "1  Social Support ↑ by +0.1                             5.461033   \n",
       "2         Freedom ↑ by +0.1                             5.612052   \n",
       "\n",
       "   Predicted Happiness Score (LSTM)  \n",
       "0                          5.706116  \n",
       "1                          5.754849  \n",
       "2                          5.775245  "
      ]
     },
     "metadata": {},
     "output_type": "display_data"
    }
   ],
   "source": [
    "import json\n",
    "import pandas as pd\n",
    "from IPython.display import display, Markdown\n",
    "import openai\n",
    "\n",
    "# Load model results\n",
    "with open('../model_what_if/xgb_scenarios.json') as f:\n",
    "    xgb = json.load(f)\n",
    "\n",
    "with open('../model_what_if/lstm_scenarios.json') as f:\n",
    "    lstm = json.load(f)\n",
    "\n",
    "# Construct scenario comparison\n",
    "comparison_scenarios = pd.DataFrame({\n",
    "    \"Indicator Change\": [\n",
    "        \"GDP ↑ by 10%\",\n",
    "        \"Social Support ↑ by +0.1\",\n",
    "        \"Freedom ↑ by +0.1\"\n",
    "    ],\n",
    "    \"Predicted Happiness Score (XGBoost)\": [\n",
    "        xgb[\"GDP+10%\"],\n",
    "        xgb[\"SocialSupport+0.1\"],\n",
    "        xgb[\"Freedom+0.1\"]\n",
    "    ],\n",
    "    \"Predicted Happiness Score (LSTM)\": [\n",
    "        lstm[\"GDP+10%\"],\n",
    "        lstm[\"SocialSupport+0.1\"],\n",
    "        lstm[\"Freedom+0.1\"]\n",
    "    ]\n",
    "})\n",
    "\n",
    "# Markdown Display\n",
    "display(Markdown(\"##  Scenario-Based Comparison between XGBoost and LSTM\"))\n",
    "display(comparison_scenarios)\n",
    "\n"
   ]
  },
  {
   "cell_type": "code",
   "execution_count": null,
   "id": "a09f0db7",
   "metadata": {},
   "outputs": [
    {
     "data": {
      "text/markdown": [
       "## GenAI’s Analysis"
      ],
      "text/plain": [
       "<IPython.core.display.Markdown object>"
      ]
     },
     "metadata": {},
     "output_type": "display_data"
    },
    {
     "data": {
      "text/markdown": [
       "The sensitivities of the models can be compared by assessing the changes in the predicted happiness under different interventions for both XGBoost and LSTM models.\n",
       "\n",
       "From the given data, all three interventions improve the happiness prediction in both models.\n",
       "\n",
       "## Sensitivity comparison:\n",
       "\n",
       "For the XGBoost model, the increases are +0.15 for the GDP increase, +0.11 for the social support increase, and +0.15 for the freedom increase.\n",
       "\n",
       "For the LSTM model, the increases are +0.36 for the GDP increase, +0.04 for the social support increase, and +0.03 for the freedom increase.\n",
       "\n",
       "## Most impactful factor:\n",
       "\n",
       "For the XGBoost model, the GDP increase and the freedom increase both have the most impact.\n",
       "\n",
       "For the LSTM model, the GDP increase has the most impact.\n",
       "\n",
       "## Realism and Reliability:\n",
       "\n",
       "Determining which model behaves more realistically depends on the specific context and assumptions made in the models. Generally, it would be expected that both increases in GDP and increases in social support and freedom would all positively contribute to happiness to varying degrees. \n",
       "\n",
       "The LSTM model shows a stronger dependency on the GDP increase, which might be too optimistic an outlook, although it depends on the actual socio-economic context. If other factors such as social support and freedom are equally important in real-world considerations, the XGBoost model that attributes similar importance to all three factors might be a better option. \n",
       "\n",
       "Given that policy planning has to often balance between different sorts of interventions, a model that doesn't overemphasize one factor over others would generally be more useful. Therefore, based on the available information, the XGBoost model might be more reliable for policy planning. But it would be very useful to also have confidence intervals or some measure of uncertainty for these predictions, to sophisticatedly guide policy decisions based on machine learning models."
      ],
      "text/plain": [
       "<IPython.core.display.Markdown object>"
      ]
     },
     "metadata": {},
     "output_type": "display_data"
    }
   ],
   "source": [
    "import openai\n",
    "from openai import OpenAI\n",
    "\n",
    "# Replace this with your actual OpenAI key\n",
    "client = OpenAI(api_key=\"your-api-key\") \n",
    "\n",
    "def get_genai_opinion(xgb, lstm):\n",
    "    prompt = f\"\"\"\n",
    "You are an expert in socio-economic modeling.\n",
    "\n",
    "We have the following happiness predictions for Ukraine under three separate interventions:\n",
    "\n",
    "| Indicator Change          | XGBoost | LSTM |\n",
    "|--------------------------|---------|------|\n",
    "| GDP ↑ by 10%             | {xgb['GDP+10%']:.2f}     | {lstm['GDP+10%']:.2f}  |\n",
    "| Social Support ↑ by +0.1 | {xgb['SocialSupport+0.1']:.2f}     | {lstm['SocialSupport+0.1']:.2f}  |\n",
    "| Freedom ↑ by +0.1        | {xgb['Freedom+0.1']:.2f}     | {lstm['Freedom+0.1']:.2f}  |\n",
    "\n",
    "Compare the sensitivity of the models. Which factor has the most impact? Which model behaves more realistically and would be more reliable for policy planning?\n",
    "\"\"\"\n",
    "\n",
    "    response = client.chat.completions.create(\n",
    "        model=\"gpt-4\",\n",
    "        messages=[\n",
    "            {\"role\": \"system\", \"content\": \"You are a senior social data scientist.\"},\n",
    "            {\"role\": \"user\", \"content\": prompt}\n",
    "        ]\n",
    "    )\n",
    "\n",
    "    return response.choices[0].message.content\n",
    "genai_comment = get_genai_opinion(xgb, lstm)\n",
    "\n",
    "display(Markdown(\"## GenAI’s Analysis\"))\n",
    "display(Markdown(genai_comment))\n"
   ]
  }
 ],
 "metadata": {
  "kernelspec": {
   "display_name": ".venv",
   "language": "python",
   "name": "python3"
  },
  "language_info": {
   "codemirror_mode": {
    "name": "ipython",
    "version": 3
   },
   "file_extension": ".py",
   "mimetype": "text/x-python",
   "name": "python",
   "nbconvert_exporter": "python",
   "pygments_lexer": "ipython3",
   "version": "3.11.13"
  }
 },
 "nbformat": 4,
 "nbformat_minor": 5
}
